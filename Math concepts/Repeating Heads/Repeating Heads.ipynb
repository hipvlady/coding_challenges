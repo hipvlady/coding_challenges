{
 "cells": [
  {
   "cell_type": "code",
   "execution_count": 2,
   "id": "e873fa4d",
   "metadata": {},
   "outputs": [],
   "source": [
    "def repeating_heads(n, x):\n",
    "    prob = (1 - (1 - 0.5**n)**x)\n",
    "    payout = 100 / prob\n",
    "    return [round(prob * 100, 4), round(payout, 4)]"
   ]
  },
  {
   "cell_type": "code",
   "execution_count": 3,
   "id": "abfb331a",
   "metadata": {},
   "outputs": [
    {
     "data": {
      "text/plain": [
       "[73.6924, 135.6991]"
      ]
     },
     "execution_count": 3,
     "metadata": {},
     "output_type": "execute_result"
    }
   ],
   "source": [
    "repeating_heads(3,10)"
   ]
  },
  {
   "cell_type": "code",
   "execution_count": null,
   "id": "cb9372e8",
   "metadata": {},
   "outputs": [],
   "source": []
  }
 ],
 "metadata": {
  "kernelspec": {
   "display_name": "Python 3 (ipykernel)",
   "language": "python",
   "name": "python3"
  },
  "language_info": {
   "codemirror_mode": {
    "name": "ipython",
    "version": 3
   },
   "file_extension": ".py",
   "mimetype": "text/x-python",
   "name": "python",
   "nbconvert_exporter": "python",
   "pygments_lexer": "ipython3",
   "version": "3.11.4"
  }
 },
 "nbformat": 4,
 "nbformat_minor": 5
}
