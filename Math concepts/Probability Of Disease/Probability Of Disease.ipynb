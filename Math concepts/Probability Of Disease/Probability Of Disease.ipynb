{
 "cells": [
  {
   "cell_type": "markdown",
   "id": "e4d2f3ba",
   "metadata": {},
   "source": [
    "To compute the probability that a person actually has a disease after testing positive for it, we need to use Bayes' theorem (https://en.wikipedia.org/wiki/Bayes%27_theorem) Let's denote the event that a person has the disease as ``` D ``` and the event that a person tests positive for the disease as ``` T ```. We want to find the conditional probability ``` P(D|T)```, that is, the probability a person has the disease given that they've tested positive.\n",
    "\n",
    "Using Bayes' theorem:\n",
    "https://en.wikipedia.org/wiki/Bayes%27_theorem#Statement_of_theorem\n",
    "\n",
    "Where:\n",
    "\n",
    "- P(T|D) is the probability of testing positive given that you have the disease, which is the accuracy of the test.\n",
    "- P(D) is the prior probability that a person has the disease, which is the prevalence.\n",
    "- P(T) is the total probability of testing positive. This can be broken down into two parts: the probability of testing positive when you have the disease and the probability of testing positive when you don't. Thus, ``` P(T) = P(T|D) \\ times P(D) + P(T|D^c) \\times P(D^c) \\)```, where  ```P(D^c)``` is the probability of not having the disease and ```P(T|D^c)``` is the probability of testing positive given that you don't have the disease (this is a false positive).\n",
    "\n",
    "Given:\n",
    "``` P(T|D^c) = 1 - accuracy```\n",
    "``` P(D^c) = 1 - prevalence```\n",
    "\n",
    "Plugging these into the formula for  ```P(T)```and then into Bayes' theorem, we get:\n",
    "```P(D|T) = (accuracy * prevalence) \\ ((accuracy * prevalence) + (1 - accuracy) * (1 - prevalence))```\n",
    "\n",
    "Now, let's code this formula in the function:"
   ]
  },
  {
   "cell_type": "code",
   "execution_count": 1,
   "id": "7ca41353",
   "metadata": {},
   "outputs": [],
   "source": [
    "def probability_of_disease(accuracy, prevalence):\n",
    "    \n",
    "    # Calculating the probability of testing positive when you don't have the disease\n",
    "    false_positive_rate = 1 - accuracy\n",
    "\n",
    "    # Total probability of testing positive\n",
    "    probability_positive = accuracy * prevalence + false_positive_rate * (1 - prevalence)\n",
    "\n",
    "    # Using Bayes' theorem to find the probability of having the disease given a positive test\n",
    "    post_test_probability = (accuracy * prevalence) / probability_positive\n",
    "\n",
    "    return post_test_probability"
   ]
  },
  {
   "cell_type": "code",
   "execution_count": 2,
   "id": "53afea7d",
   "metadata": {},
   "outputs": [
    {
     "name": "stdout",
     "output_type": "stream",
     "text": [
      "0.16101694915254225\n"
     ]
    }
   ],
   "source": [
    "# Example usage\n",
    "accuracy = 0.95\n",
    "prevalence = 0.01\n",
    "print(probability_of_disease(accuracy, prevalence))  "
   ]
  },
  {
   "cell_type": "markdown",
   "id": "4380f73c",
   "metadata": {},
   "source": [
    "This will print the probability of having the disease given a positive test for the given accuracy and prevalence values"
   ]
  },
  {
   "cell_type": "code",
   "execution_count": null,
   "id": "00fef1ab",
   "metadata": {},
   "outputs": [],
   "source": []
  }
 ],
 "metadata": {
  "kernelspec": {
   "display_name": "Python 3 (ipykernel)",
   "language": "python",
   "name": "python3"
  },
  "language_info": {
   "codemirror_mode": {
    "name": "ipython",
    "version": 3
   },
   "file_extension": ".py",
   "mimetype": "text/x-python",
   "name": "python",
   "nbconvert_exporter": "python",
   "pygments_lexer": "ipython3",
   "version": "3.11.4"
  }
 },
 "nbformat": 4,
 "nbformat_minor": 5
}
