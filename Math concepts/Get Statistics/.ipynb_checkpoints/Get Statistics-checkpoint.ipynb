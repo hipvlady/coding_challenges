{
 "cells": [
  {
   "cell_type": "markdown",
   "id": "99157c2b",
   "metadata": {},
   "source": [
    "**Memo**\n",
    "The confidence interval is based on the t-distribution, which is typically used for smaller sample sizes (n < 30) when the population standard deviation is unknown. The values for the t-distribution's critical values will vary depending on the degrees of freedom.\n",
    "\n",
    "Let's assume we are referring to a 95% confidence interval based on the z-distribution (z-value of approximately 1.96 for a 95% confidence level), which is typically used for larger sample sizes or when the population standard deviation is known."
   ]
  },
  {
   "cell_type": "code",
   "execution_count": 2,
   "id": "408d9604",
   "metadata": {},
   "outputs": [],
   "source": [
    "def get_statistics(input_list):\n",
    "    n = len(input_list)\n",
    "    if n == 0:\n",
    "        raise ValueError(\"The list is empty\")\n",
    "\n",
    "    # Mean\n",
    "    mean_val = sum(input_list) / n\n",
    "    \n",
    "    # Median\n",
    "    sorted_list = sorted(input_list)\n",
    "    midpoint = n // 2\n",
    "    if n % 2 == 1:  # Odd number of elements\n",
    "        median_val = sorted_list[midpoint]\n",
    "    else:  # Even number of elements\n",
    "        median_val = (sorted_list[midpoint - 1] + sorted_list[midpoint]) / 2\n",
    "        \n",
    "    # Mode\n",
    "    frequency = {}\n",
    "    for num in input_list:\n",
    "        frequency[num] = frequency.get(num, 0) + 1\n",
    "    mode_val = max(frequency, key=frequency.get)\n",
    "    \n",
    "    # Sample Variance\n",
    "    deviations = [(x - mean_val) ** 2 for x in input_list]\n",
    "    sample_variance_val = sum(deviations) / (n - 1)\n",
    "    \n",
    "    # Sample Standard Deviation\n",
    "    sample_standard_deviation_val = sample_variance_val ** 0.5\n",
    "    \n",
    "    # 95% Confidence Interval for Mean\n",
    "    z_critical = 1.96\n",
    "    margin_error = z_critical * (sample_standard_deviation_val / (n ** 0.5))\n",
    "    lower_bound = mean_val - margin_error\n",
    "    upper_bound = mean_val + margin_error\n",
    "\n",
    "    return {\n",
    "        \"mean\": mean_val,\n",
    "        \"median\": median_val,\n",
    "        \"mode\": mode_val,\n",
    "        \"sample_variance\": sample_variance_val,\n",
    "        \"sample_standard_deviation\": sample_standard_deviation_val,\n",
    "        \"mean_confidence_interval\": [lower_bound, upper_bound],\n",
    "    }"
   ]
  },
  {
   "cell_type": "code",
   "execution_count": 3,
   "id": "55d59cf5",
   "metadata": {},
   "outputs": [
    {
     "data": {
      "text/plain": [
       "{'mean': 4.0,\n",
       " 'median': 4.0,\n",
       " 'mode': 4,\n",
       " 'sample_variance': 4.0,\n",
       " 'sample_standard_deviation': 2.0,\n",
       " 'mean_confidence_interval': [2.614070708874367, 5.385929291125633]}"
      ]
     },
     "execution_count": 3,
     "metadata": {},
     "output_type": "execute_result"
    }
   ],
   "source": [
    "# Test the refactored function\n",
    "input_list = [2, 1, 3, 4, 4, 5, 6, 7]\n",
    "get_statistics(input_list)"
   ]
  }
 ],
 "metadata": {
  "kernelspec": {
   "display_name": "Python 3 (ipykernel)",
   "language": "python",
   "name": "python3"
  },
  "language_info": {
   "codemirror_mode": {
    "name": "ipython",
    "version": 3
   },
   "file_extension": ".py",
   "mimetype": "text/x-python",
   "name": "python",
   "nbconvert_exporter": "python",
   "pygments_lexer": "ipython3",
   "version": "3.11.4"
  }
 },
 "nbformat": 4,
 "nbformat_minor": 5
}
