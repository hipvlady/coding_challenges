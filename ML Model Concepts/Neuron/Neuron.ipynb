{
 "cells": [
  {
   "cell_type": "code",
   "execution_count": 1,
   "id": "d03d46d4",
   "metadata": {},
   "outputs": [],
   "source": [
    "import numpy as np"
   ]
  },
  {
   "cell_type": "code",
   "execution_count": 2,
   "id": "69d32576",
   "metadata": {},
   "outputs": [],
   "source": [
    "class Neuron:\n",
    "    def __init__(self, examples):\n",
    "        np.random.seed(42)\n",
    "        # Three weights: one for each feature and one more for the bias.\n",
    "        self.weights = np.random.normal(0, 1, 3 + 1)\n",
    "        self.examples = examples\n",
    "        self.train()\n",
    "\n",
    "    def sigmoid(self, z):\n",
    "        return 1 / (1 + np.exp(-z))\n",
    "    \n",
    "    def forward(self, batch_features):\n",
    "        z = np.dot(batch_features, self.weights)\n",
    "        return self.sigmoid(z)\n",
    "    \n",
    "    def train(self, learning_rate=0.01, batch_size=10, epochs=200):\n",
    "        m = len(self.examples)\n",
    "        for _ in range(epochs):\n",
    "            np.random.shuffle(self.examples)\n",
    "            \n",
    "            for i in range(0, m, batch_size):\n",
    "                batch = self.examples[i:i+batch_size]\n",
    "                \n",
    "                # Extracting features and labels from the batch\n",
    "                batch_features = [x[\"features\"] for x in batch]\n",
    "                batch_labels = [x[\"label\"] for x in batch]\n",
    "                \n",
    "                # Appending bias term (1) to features\n",
    "                batch_features = np.c_[batch_features, np.ones(len(batch_features))]\n",
    "                batch_labels = np.array(batch_labels)\n",
    "                \n",
    "                # Forward pass\n",
    "                predictions = self.forward(batch_features)\n",
    "                \n",
    "                # Compute gradients\n",
    "                dz = predictions - batch_labels\n",
    "                dw = np.dot(batch_features.T, dz) / batch_size\n",
    "                \n",
    "                # Update weights\n",
    "                self.weights -= learning_rate * dw\n",
    "                \n",
    "    def predict(self, features):\n",
    "        features = np.append(features, 1)  # Appending bias term (1)\n",
    "        return self.forward(features)\n"
   ]
  },
  {
   "cell_type": "code",
   "execution_count": 3,
   "id": "04631b55",
   "metadata": {},
   "outputs": [],
   "source": [
    "import unittest"
   ]
  },
  {
   "cell_type": "code",
   "execution_count": 11,
   "id": "28101a65",
   "metadata": {},
   "outputs": [],
   "source": [
    "class TestNeuron(unittest.TestCase):\n",
    "    def setUp(self):\n",
    "        examples = [\n",
    "            {\"features\": [0.7737, 0.8939, 0.7776], \"label\": 0},\n",
    "            {\"features\": [0.8356, 0.7535, 0.7940], \"label\": 0},\n",
    "            # ... add more examples as needed\n",
    "        ]\n",
    "        self.neuron = Neuron(examples)\n",
    "\n",
    "    def test_prediction_range(self):\n",
    "        input_data = {\"features\": [-0.3, -0.4, -0.5]}\n",
    "        prediction = self.neuron.predict(input_data[\"features\"])\n",
    "        \n",
    "        self.assertGreaterEqual(prediction, 0)\n",
    "        self.assertLessEqual(prediction, 1)"
   ]
  },
  {
   "cell_type": "code",
   "execution_count": 12,
   "id": "733082fe",
   "metadata": {},
   "outputs": [
    {
     "name": "stderr",
     "output_type": "stream",
     "text": [
      "test_prediction_range (__main__.TestNeuron.test_prediction_range) ... ok\n",
      "\n",
      "----------------------------------------------------------------------\n",
      "Ran 1 test in 0.020s\n",
      "\n",
      "OK\n"
     ]
    },
    {
     "data": {
      "text/plain": [
       "<unittest.runner.TextTestResult run=1 errors=0 failures=0>"
      ]
     },
     "execution_count": 12,
     "metadata": {},
     "output_type": "execute_result"
    }
   ],
   "source": [
    "suite = unittest.TestLoader().loadTestsFromTestCase(TestNeuron)\n",
    "runner = unittest.TextTestRunner(verbosity=2)\n",
    "runner.run(suite)"
   ]
  }
 ],
 "metadata": {
  "kernelspec": {
   "display_name": "Python 3 (ipykernel)",
   "language": "python",
   "name": "python3"
  },
  "language_info": {
   "codemirror_mode": {
    "name": "ipython",
    "version": 3
   },
   "file_extension": ".py",
   "mimetype": "text/x-python",
   "name": "python",
   "nbconvert_exporter": "python",
   "pygments_lexer": "ipython3",
   "version": "3.11.4"
  }
 },
 "nbformat": 4,
 "nbformat_minor": 5
}
